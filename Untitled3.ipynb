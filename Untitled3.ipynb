{
  "nbformat": 4,
  "nbformat_minor": 0,
  "metadata": {
    "colab": {
      "provenance": [],
      "authorship_tag": "ABX9TyMpG00AxE4BctQovoLkKkXj",
      "include_colab_link": true
    },
    "kernelspec": {
      "name": "python3",
      "display_name": "Python 3"
    },
    "language_info": {
      "name": "python"
    }
  },
  "cells": [
    {
      "cell_type": "markdown",
      "metadata": {
        "id": "view-in-github",
        "colab_type": "text"
      },
      "source": [
        "<a href=\"https://colab.research.google.com/github/Giandonn/data-science/blob/main/Untitled3.ipynb\" target=\"_parent\"><img src=\"https://colab.research.google.com/assets/colab-badge.svg\" alt=\"Open In Colab\"/></a>"
      ]
    },
    {
      "cell_type": "code",
      "execution_count": 6,
      "metadata": {
        "colab": {
          "base_uri": "https://localhost:8080/",
          "height": 1000
        },
        "id": "MX4E1Z65W3K5",
        "outputId": "ab1b3f53-79a2-4ae2-f680-2a5f8714f8d0"
      },
      "outputs": [
        {
          "output_type": "stream",
          "name": "stdout",
          "text": [
            "                     Network ID                       Network Name  \\\n",
            "0         abu-dhabi-careem-bike              Abu Dhabi Careem BIKE   \n",
            "1           acces-velo-saguenay                         Accès Vélo   \n",
            "2                          aksu                               Aksu   \n",
            "3                          alba                               Alba   \n",
            "4                      albabici                           AlbaBici   \n",
            "..                          ...                                ...   \n",
            "788  yoy-san-luis-potosi-cancun              YOY - San Luis Potosi   \n",
            "789           yverdon-les-bains  Donkey Republic Yverdon-les-Bains   \n",
            "790                     zebullo                            ZébullO   \n",
            "791                zena-by-bike                       Zena By Bike   \n",
            "792              zoov-paris-sud                               Zoov   \n",
            "\n",
            "                                              Location  \\\n",
            "0    {'latitude': 24.4866, 'longitude': 54.3728, 'c...   \n",
            "1    {'latitude': 48.433333, 'longitude': -71.08333...   \n",
            "2    {'latitude': 41.1664, 'longitude': 80.2617, 'c...   \n",
            "3    {'latitude': 44.716667, 'longitude': 8.083333,...   \n",
            "4    {'latitude': 38.9943, 'longitude': -1.8602, 'c...   \n",
            "..                                                 ...   \n",
            "788  {'latitude': 21.1675, 'longitude': -86.8498, '...   \n",
            "789  {'latitude': 46.7788, 'longitude': 6.6414, 'ci...   \n",
            "790  {'latitude': 49.2628, 'longitude': 4.0347, 'ci...   \n",
            "791  {'latitude': 44.40430089372731, 'longitude': 8...   \n",
            "792  {'latitude': 48.7429, 'longitude': 2.238, 'cit...   \n",
            "\n",
            "                                API Endpoint  \\\n",
            "0         /v2/networks/abu-dhabi-careem-bike   \n",
            "1           /v2/networks/acces-velo-saguenay   \n",
            "2                          /v2/networks/aksu   \n",
            "3                          /v2/networks/alba   \n",
            "4                      /v2/networks/albabici   \n",
            "..                                       ...   \n",
            "788  /v2/networks/yoy-san-luis-potosi-cancun   \n",
            "789           /v2/networks/yverdon-les-bains   \n",
            "790                     /v2/networks/zebullo   \n",
            "791                /v2/networks/zena-by-bike   \n",
            "792              /v2/networks/zoov-paris-sud   \n",
            "\n",
            "                                               company  \\\n",
            "0                                             [Careem]   \n",
            "1                               [PBSC Urban Solutions]   \n",
            "2                                            [阿克苏公共服务]   \n",
            "3                                  [Comunicare S.r.l.]   \n",
            "4    [Instituto Tecnológico de Castilla y León (ITCL)]   \n",
            "..                                                 ...   \n",
            "788                                    [Nextbike GmbH]   \n",
            "789                                  [Donkey Republic]   \n",
            "790                                          [Ecovelo]   \n",
            "791                         [Bicincitta Italia S.r.l.]   \n",
            "792                                      [Fifteen SAS]   \n",
            "\n",
            "                                             gbfs_href      system  \\\n",
            "0    https://dubai.publicbikesystem.net/customer/gb...         NaN   \n",
            "1    https://saguenay.publicbikesystem.net/customer...         NaN   \n",
            "2                                                  NaN         NaN   \n",
            "3                                                  NaN  Bicincittà   \n",
            "4                                                  NaN    bicicard   \n",
            "..                                                 ...         ...   \n",
            "788                                                NaN         NaN   \n",
            "789  https://stables.donkey.bike/api/public/gbfs/2/...         NaN   \n",
            "790  https://api.gbfs.v2.2.ecovelo.mobi/zebullo/gbf...     Ecovelo   \n",
            "791                                                NaN       Weelo   \n",
            "792  https://gateway.prod.zoov.io/gbfs/2.2/saclay/e...         NaN   \n",
            "\n",
            "                                                source ebikes  \\\n",
            "0                                                  NaN    NaN   \n",
            "1                                                  NaN    NaN   \n",
            "2                                                  NaN    NaN   \n",
            "3    https://www.bicincitta.com/frmLeStazioni.aspx?...    NaN   \n",
            "4                                                  NaN    NaN   \n",
            "..                                                 ...    ...   \n",
            "788                                                NaN    NaN   \n",
            "789                                                NaN    NaN   \n",
            "790                                                NaN   True   \n",
            "791                                                NaN    NaN   \n",
            "792  https://www.data.gouv.fr/fr/datasets/r/4646ba0...    NaN   \n",
            "\n",
            "                                               license scooters instances  \n",
            "0                                                  NaN      NaN       NaN  \n",
            "1                                                  NaN      NaN       NaN  \n",
            "2                                                  NaN      NaN       NaN  \n",
            "3                                                  NaN      NaN       NaN  \n",
            "4                                                  NaN      NaN       NaN  \n",
            "..                                                 ...      ...       ...  \n",
            "788                                                NaN      NaN       NaN  \n",
            "789                                                NaN      NaN       NaN  \n",
            "790                                                NaN      NaN       NaN  \n",
            "791                                                NaN      NaN       NaN  \n",
            "792  {'name': 'Open Data Commons Open Database Lice...      NaN       NaN  \n",
            "\n",
            "[793 rows x 12 columns]\n"
          ]
        },
        {
          "output_type": "display_data",
          "data": {
            "text/plain": [
              "<IPython.core.display.Javascript object>"
            ],
            "application/javascript": [
              "\n",
              "    async function download(id, filename, size) {\n",
              "      if (!google.colab.kernel.accessAllowed) {\n",
              "        return;\n",
              "      }\n",
              "      const div = document.createElement('div');\n",
              "      const label = document.createElement('label');\n",
              "      label.textContent = `Downloading \"${filename}\": `;\n",
              "      div.appendChild(label);\n",
              "      const progress = document.createElement('progress');\n",
              "      progress.max = size;\n",
              "      div.appendChild(progress);\n",
              "      document.body.appendChild(div);\n",
              "\n",
              "      const buffers = [];\n",
              "      let downloaded = 0;\n",
              "\n",
              "      const channel = await google.colab.kernel.comms.open(id);\n",
              "      // Send a message to notify the kernel that we're ready.\n",
              "      channel.send({})\n",
              "\n",
              "      for await (const message of channel.messages) {\n",
              "        // Send a message to notify the kernel that we're ready.\n",
              "        channel.send({})\n",
              "        if (message.buffers) {\n",
              "          for (const buffer of message.buffers) {\n",
              "            buffers.push(buffer);\n",
              "            downloaded += buffer.byteLength;\n",
              "            progress.value = downloaded;\n",
              "          }\n",
              "        }\n",
              "      }\n",
              "      const blob = new Blob(buffers, {type: 'application/binary'});\n",
              "      const a = document.createElement('a');\n",
              "      a.href = window.URL.createObjectURL(blob);\n",
              "      a.download = filename;\n",
              "      div.appendChild(a);\n",
              "      a.click();\n",
              "      div.remove();\n",
              "    }\n",
              "  "
            ]
          },
          "metadata": {}
        },
        {
          "output_type": "display_data",
          "data": {
            "text/plain": [
              "<IPython.core.display.Javascript object>"
            ],
            "application/javascript": [
              "download(\"download_2f81dd84-445f-43f2-9b34-804dad7a01e5\", \"citybikes_networks.csv\", 180721)"
            ]
          },
          "metadata": {}
        }
      ],
      "source": [
        "import requests\n",
        "from google.colab import files\n",
        "import pandas as pd\n",
        "\n",
        "url = \"http://api.citybik.es/v2/networks\"\n",
        "\n",
        "response = requests.get(url)\n",
        "\n",
        "if response.status_code == 200:\n",
        "    data = response.json()\n",
        "\n",
        "    networks = data['networks']\n",
        "\n",
        "    df = pd.DataFrame(networks)\n",
        "\n",
        "    df.rename(columns={\n",
        "        'id': 'ID',\n",
        "        'name': 'Nome',\n",
        "        'href': 'API Endpoint',\n",
        "        'location': 'Local'\n",
        "    }, inplace=True)\n",
        "\n",
        "    files.download('citybikes_networks.csv')\n",
        "    df.to_csv('citybikes_networks.csv', index=False)\n",
        "else:\n",
        "    print(f\"Erro ao buscar dados: {response.status_code}\")\n"
      ]
    },
    {
      "cell_type": "code",
      "source": [
        "import requests\n",
        "from google.colab import files\n",
        "import pandas as pd\n",
        "\n",
        "url = \"http://ergast.com/api/f1/2020/1/results.json\"\n",
        "\n",
        "response = requests.get(url)\n",
        "\n",
        "if response.status_code == 200:\n",
        "    data = response.json()\n",
        "\n",
        "    races = data['MRData']['RaceTable']['Races']\n",
        "\n",
        "    race_results = []\n",
        "\n",
        "    for race in races:\n",
        "        for result in race['Results']:\n",
        "            race_info = {\n",
        "                'Race Name': race['raceName'],\n",
        "                'Circuit Name': race['Circuit']['circuitName'],\n",
        "                'Date': race['date'],\n",
        "                'Location': f\"{race['Circuit']['Location']['locality']}, {race['Circuit']['Location']['country']}\",\n",
        "                'Driver Name': f\"{result['Driver']['givenName']} {result['Driver']['familyName']}\",\n",
        "                'Position': result['position'],\n",
        "                'Constructor': result['Constructor']['name']\n",
        "            }\n",
        "\n",
        "            race_results.append(race_info)\n",
        "\n",
        "    df = pd.DataFrame(race_results)\n",
        "\n",
        "    df.to_csv('f1_race_results_with_drivers.csv', index=False)\n",
        "\n",
        "    files.download('f1_race_results_with_drivers.csv')\n",
        "\n",
        "    print(\"Arquivo CSV salvo e pronto para download!\")\n",
        "else:\n",
        "    print(f\"Erro ao buscar dados: {response.status_code}\")\n"
      ],
      "metadata": {
        "colab": {
          "base_uri": "https://localhost:8080/",
          "height": 74
        },
        "id": "gBK40gutbQHW",
        "outputId": "a15dfb8f-6531-448b-de7e-26e468cc9a2e"
      },
      "execution_count": 13,
      "outputs": [
        {
          "output_type": "stream",
          "name": "stdout",
          "text": [
            "{'season': '2020', 'round': '1', 'Races': [{'season': '2020', 'round': '1', 'url': 'http://en.wikipedia.org/wiki/2020_Austrian_Grand_Prix', 'raceName': 'Austrian Grand Prix', 'Circuit': {'circuitId': 'red_bull_ring', 'url': 'http://en.wikipedia.org/wiki/Red_Bull_Ring', 'circuitName': 'Red Bull Ring', 'Location': {'lat': '47.2197', 'long': '14.7647', 'locality': 'Spielberg', 'country': 'Austria'}}, 'date': '2020-07-05', 'time': '13:10:00Z', 'Results': [{'number': '77', 'position': '1', 'positionText': '1', 'points': '25', 'Driver': {'driverId': 'bottas', 'permanentNumber': '77', 'code': 'BOT', 'url': 'http://en.wikipedia.org/wiki/Valtteri_Bottas', 'givenName': 'Valtteri', 'familyName': 'Bottas', 'dateOfBirth': '1989-08-28', 'nationality': 'Finnish'}, 'Constructor': {'constructorId': 'mercedes', 'url': 'http://en.wikipedia.org/wiki/Mercedes-Benz_in_Formula_One', 'name': 'Mercedes', 'nationality': 'German'}, 'grid': '1', 'laps': '71', 'status': 'Finished', 'Time': {'millis': '5455739', 'time': '1:30:55.739'}, 'FastestLap': {'rank': '2', 'lap': '68', 'Time': {'time': '1:07.657'}, 'AverageSpeed': {'units': 'kph', 'speed': '229.758'}}}, {'number': '16', 'position': '2', 'positionText': '2', 'points': '18', 'Driver': {'driverId': 'leclerc', 'permanentNumber': '16', 'code': 'LEC', 'url': 'http://en.wikipedia.org/wiki/Charles_Leclerc', 'givenName': 'Charles', 'familyName': 'Leclerc', 'dateOfBirth': '1997-10-16', 'nationality': 'Monegasque'}, 'Constructor': {'constructorId': 'ferrari', 'url': 'http://en.wikipedia.org/wiki/Scuderia_Ferrari', 'name': 'Ferrari', 'nationality': 'Italian'}, 'grid': '7', 'laps': '71', 'status': 'Finished', 'Time': {'millis': '5458439', 'time': '+2.700'}, 'FastestLap': {'rank': '4', 'lap': '64', 'Time': {'time': '1:07.901'}, 'AverageSpeed': {'units': 'kph', 'speed': '228.933'}}}, {'number': '4', 'position': '3', 'positionText': '3', 'points': '16', 'Driver': {'driverId': 'norris', 'permanentNumber': '4', 'code': 'NOR', 'url': 'http://en.wikipedia.org/wiki/Lando_Norris', 'givenName': 'Lando', 'familyName': 'Norris', 'dateOfBirth': '1999-11-13', 'nationality': 'British'}, 'Constructor': {'constructorId': 'mclaren', 'url': 'http://en.wikipedia.org/wiki/McLaren', 'name': 'McLaren', 'nationality': 'British'}, 'grid': '3', 'laps': '71', 'status': 'Finished', 'Time': {'millis': '5461230', 'time': '+5.491'}, 'FastestLap': {'rank': '1', 'lap': '71', 'Time': {'time': '1:07.475'}, 'AverageSpeed': {'units': 'kph', 'speed': '230.378'}}}, {'number': '44', 'position': '4', 'positionText': '4', 'points': '12', 'Driver': {'driverId': 'hamilton', 'permanentNumber': '44', 'code': 'HAM', 'url': 'http://en.wikipedia.org/wiki/Lewis_Hamilton', 'givenName': 'Lewis', 'familyName': 'Hamilton', 'dateOfBirth': '1985-01-07', 'nationality': 'British'}, 'Constructor': {'constructorId': 'mercedes', 'url': 'http://en.wikipedia.org/wiki/Mercedes-Benz_in_Formula_One', 'name': 'Mercedes', 'nationality': 'German'}, 'grid': '5', 'laps': '71', 'status': 'Finished', 'Time': {'millis': '5461428', 'time': '+5.689'}, 'FastestLap': {'rank': '3', 'lap': '67', 'Time': {'time': '1:07.712'}, 'AverageSpeed': {'units': 'kph', 'speed': '229.572'}}}, {'number': '55', 'position': '5', 'positionText': '5', 'points': '10', 'Driver': {'driverId': 'sainz', 'permanentNumber': '55', 'code': 'SAI', 'url': 'http://en.wikipedia.org/wiki/Carlos_Sainz_Jr.', 'givenName': 'Carlos', 'familyName': 'Sainz', 'dateOfBirth': '1994-09-01', 'nationality': 'Spanish'}, 'Constructor': {'constructorId': 'mclaren', 'url': 'http://en.wikipedia.org/wiki/McLaren', 'name': 'McLaren', 'nationality': 'British'}, 'grid': '8', 'laps': '71', 'status': 'Finished', 'Time': {'millis': '5464642', 'time': '+8.903'}, 'FastestLap': {'rank': '5', 'lap': '63', 'Time': {'time': '1:07.974'}, 'AverageSpeed': {'units': 'kph', 'speed': '228.687'}}}, {'number': '11', 'position': '6', 'positionText': '6', 'points': '8', 'Driver': {'driverId': 'perez', 'permanentNumber': '11', 'code': 'PER', 'url': 'http://en.wikipedia.org/wiki/Sergio_P%C3%A9rez', 'givenName': 'Sergio', 'familyName': 'Pérez', 'dateOfBirth': '1990-01-26', 'nationality': 'Mexican'}, 'Constructor': {'constructorId': 'racing_point', 'url': 'http://en.wikipedia.org/wiki/Racing_Point_F1_Team', 'name': 'Racing Point', 'nationality': 'British'}, 'grid': '6', 'laps': '71', 'status': 'Finished', 'Time': {'millis': '5470831', 'time': '+15.092'}, 'FastestLap': {'rank': '6', 'lap': '63', 'Time': {'time': '1:08.305'}, 'AverageSpeed': {'units': 'kph', 'speed': '227.579'}}}, {'number': '10', 'position': '7', 'positionText': '7', 'points': '6', 'Driver': {'driverId': 'gasly', 'permanentNumber': '10', 'code': 'GAS', 'url': 'http://en.wikipedia.org/wiki/Pierre_Gasly', 'givenName': 'Pierre', 'familyName': 'Gasly', 'dateOfBirth': '1996-02-07', 'nationality': 'French'}, 'Constructor': {'constructorId': 'alphatauri', 'url': 'http://en.wikipedia.org/wiki/Scuderia_AlphaTauri', 'name': 'AlphaTauri', 'nationality': 'Italian'}, 'grid': '12', 'laps': '71', 'status': 'Finished', 'Time': {'millis': '5472421', 'time': '+16.682'}, 'FastestLap': {'rank': '11', 'lap': '64', 'Time': {'time': '1:09.025'}, 'AverageSpeed': {'units': 'kph', 'speed': '225.205'}}}, {'number': '31', 'position': '8', 'positionText': '8', 'points': '4', 'Driver': {'driverId': 'ocon', 'permanentNumber': '31', 'code': 'OCO', 'url': 'http://en.wikipedia.org/wiki/Esteban_Ocon', 'givenName': 'Esteban', 'familyName': 'Ocon', 'dateOfBirth': '1996-09-17', 'nationality': 'French'}, 'Constructor': {'constructorId': 'renault', 'url': 'http://en.wikipedia.org/wiki/Renault_in_Formula_One', 'name': 'Renault', 'nationality': 'French'}, 'grid': '14', 'laps': '71', 'status': 'Finished', 'Time': {'millis': '5473195', 'time': '+17.456'}, 'FastestLap': {'rank': '10', 'lap': '64', 'Time': {'time': '1:08.932'}, 'AverageSpeed': {'units': 'kph', 'speed': '225.509'}}}, {'number': '99', 'position': '9', 'positionText': '9', 'points': '2', 'Driver': {'driverId': 'giovinazzi', 'permanentNumber': '99', 'code': 'GIO', 'url': 'http://en.wikipedia.org/wiki/Antonio_Giovinazzi', 'givenName': 'Antonio', 'familyName': 'Giovinazzi', 'dateOfBirth': '1993-12-14', 'nationality': 'Italian'}, 'Constructor': {'constructorId': 'alfa', 'url': 'http://en.wikipedia.org/wiki/Alfa_Romeo_in_Formula_One', 'name': 'Alfa Romeo', 'nationality': 'Swiss'}, 'grid': '18', 'laps': '71', 'status': 'Finished', 'Time': {'millis': '5476885', 'time': '+21.146'}, 'FastestLap': {'rank': '9', 'lap': '70', 'Time': {'time': '1:08.796'}, 'AverageSpeed': {'units': 'kph', 'speed': '225.954'}}}, {'number': '5', 'position': '10', 'positionText': '10', 'points': '1', 'Driver': {'driverId': 'vettel', 'permanentNumber': '5', 'code': 'VET', 'url': 'http://en.wikipedia.org/wiki/Sebastian_Vettel', 'givenName': 'Sebastian', 'familyName': 'Vettel', 'dateOfBirth': '1987-07-03', 'nationality': 'German'}, 'Constructor': {'constructorId': 'ferrari', 'url': 'http://en.wikipedia.org/wiki/Scuderia_Ferrari', 'name': 'Ferrari', 'nationality': 'Italian'}, 'grid': '11', 'laps': '71', 'status': 'Finished', 'Time': {'millis': '5480284', 'time': '+24.545'}, 'FastestLap': {'rank': '8', 'lap': '71', 'Time': {'time': '1:08.623'}, 'AverageSpeed': {'units': 'kph', 'speed': '226.524'}}}, {'number': '6', 'position': '11', 'positionText': '11', 'points': '0', 'Driver': {'driverId': 'latifi', 'permanentNumber': '6', 'code': 'LAT', 'url': 'http://en.wikipedia.org/wiki/Nicholas_Latifi', 'givenName': 'Nicholas', 'familyName': 'Latifi', 'dateOfBirth': '1995-06-29', 'nationality': 'Canadian'}, 'Constructor': {'constructorId': 'williams', 'url': 'http://en.wikipedia.org/wiki/Williams_Grand_Prix_Engineering', 'name': 'Williams', 'nationality': 'British'}, 'grid': '20', 'laps': '71', 'status': 'Finished', 'Time': {'millis': '5487389', 'time': '+31.650'}, 'FastestLap': {'rank': '16', 'lap': '63', 'Time': {'time': '1:09.662'}, 'AverageSpeed': {'units': 'kph', 'speed': '223.146'}}}, {'number': '26', 'position': '12', 'positionText': '12', 'points': '0', 'Driver': {'driverId': 'kvyat', 'permanentNumber': '26', 'code': 'KVY', 'url': 'http://en.wikipedia.org/wiki/Daniil_Kvyat', 'givenName': 'Daniil', 'familyName': 'Kvyat', 'dateOfBirth': '1994-04-26', 'nationality': 'Russian'}, 'Constructor': {'constructorId': 'alphatauri', 'url': 'http://en.wikipedia.org/wiki/Scuderia_AlphaTauri', 'name': 'AlphaTauri', 'nationality': 'Italian'}, 'grid': '13', 'laps': '69', 'status': 'Suspension', 'FastestLap': {'rank': '13', 'lap': '50', 'Time': {'time': '1:09.135'}, 'AverageSpeed': {'units': 'kph', 'speed': '224.847'}}}, {'number': '23', 'position': '13', 'positionText': '13', 'points': '0', 'Driver': {'driverId': 'albon', 'permanentNumber': '23', 'code': 'ALB', 'url': 'http://en.wikipedia.org/wiki/Alexander_Albon', 'givenName': 'Alexander', 'familyName': 'Albon', 'dateOfBirth': '1996-03-23', 'nationality': 'Thai'}, 'Constructor': {'constructorId': 'red_bull', 'url': 'http://en.wikipedia.org/wiki/Red_Bull_Racing', 'name': 'Red Bull', 'nationality': 'Austrian'}, 'grid': '4', 'laps': '67', 'status': 'Electronics', 'FastestLap': {'rank': '7', 'lap': '50', 'Time': {'time': '1:08.432'}, 'AverageSpeed': {'units': 'kph', 'speed': '227.156'}}}, {'number': '7', 'position': '14', 'positionText': 'R', 'points': '0', 'Driver': {'driverId': 'raikkonen', 'permanentNumber': '7', 'code': 'RAI', 'url': 'http://en.wikipedia.org/wiki/Kimi_R%C3%A4ikk%C3%B6nen', 'givenName': 'Kimi', 'familyName': 'Räikkönen', 'dateOfBirth': '1979-10-17', 'nationality': 'Finnish'}, 'Constructor': {'constructorId': 'alfa', 'url': 'http://en.wikipedia.org/wiki/Alfa_Romeo_in_Formula_One', 'name': 'Alfa Romeo', 'nationality': 'Swiss'}, 'grid': '19', 'laps': '53', 'status': 'Wheel', 'FastestLap': {'rank': '12', 'lap': '48', 'Time': {'time': '1:09.031'}, 'AverageSpeed': {'units': 'kph', 'speed': '225.185'}}}, {'number': '63', 'position': '15', 'positionText': 'R', 'points': '0', 'Driver': {'driverId': 'russell', 'permanentNumber': '63', 'code': 'RUS', 'url': 'http://en.wikipedia.org/wiki/George_Russell_(racing_driver)', 'givenName': 'George', 'familyName': 'Russell', 'dateOfBirth': '1998-02-15', 'nationality': 'British'}, 'Constructor': {'constructorId': 'williams', 'url': 'http://en.wikipedia.org/wiki/Williams_Grand_Prix_Engineering', 'name': 'Williams', 'nationality': 'British'}, 'grid': '17', 'laps': '49', 'status': 'Fuel pressure', 'FastestLap': {'rank': '14', 'lap': '49', 'Time': {'time': '1:09.317'}, 'AverageSpeed': {'units': 'kph', 'speed': '224.256'}}}, {'number': '8', 'position': '16', 'positionText': 'R', 'points': '0', 'Driver': {'driverId': 'grosjean', 'permanentNumber': '8', 'code': 'GRO', 'url': 'http://en.wikipedia.org/wiki/Romain_Grosjean', 'givenName': 'Romain', 'familyName': 'Grosjean', 'dateOfBirth': '1986-04-17', 'nationality': 'French'}, 'Constructor': {'constructorId': 'haas', 'url': 'http://en.wikipedia.org/wiki/Haas_F1_Team', 'name': 'Haas F1 Team', 'nationality': 'American'}, 'grid': '15', 'laps': '49', 'status': 'Brakes', 'FastestLap': {'rank': '17', 'lap': '46', 'Time': {'time': '1:10.228'}, 'AverageSpeed': {'units': 'kph', 'speed': '221.347'}}}, {'number': '20', 'position': '17', 'positionText': 'R', 'points': '0', 'Driver': {'driverId': 'kevin_magnussen', 'permanentNumber': '20', 'code': 'MAG', 'url': 'http://en.wikipedia.org/wiki/Kevin_Magnussen', 'givenName': 'Kevin', 'familyName': 'Magnussen', 'dateOfBirth': '1992-10-05', 'nationality': 'Danish'}, 'Constructor': {'constructorId': 'haas', 'url': 'http://en.wikipedia.org/wiki/Haas_F1_Team', 'name': 'Haas F1 Team', 'nationality': 'American'}, 'grid': '16', 'laps': '24', 'status': 'Brakes', 'FastestLap': {'rank': '20', 'lap': '23', 'Time': {'time': '1:10.720'}, 'AverageSpeed': {'units': 'kph', 'speed': '219.807'}}}, {'number': '18', 'position': '18', 'positionText': 'R', 'points': '0', 'Driver': {'driverId': 'stroll', 'permanentNumber': '18', 'code': 'STR', 'url': 'http://en.wikipedia.org/wiki/Lance_Stroll', 'givenName': 'Lance', 'familyName': 'Stroll', 'dateOfBirth': '1998-10-29', 'nationality': 'Canadian'}, 'Constructor': {'constructorId': 'racing_point', 'url': 'http://en.wikipedia.org/wiki/Racing_Point_F1_Team', 'name': 'Racing Point', 'nationality': 'British'}, 'grid': '9', 'laps': '20', 'status': 'Engine', 'FastestLap': {'rank': '18', 'lap': '4', 'Time': {'time': '1:10.326'}, 'AverageSpeed': {'units': 'kph', 'speed': '221.039'}}}, {'number': '3', 'position': '19', 'positionText': 'R', 'points': '0', 'Driver': {'driverId': 'ricciardo', 'permanentNumber': '3', 'code': 'RIC', 'url': 'http://en.wikipedia.org/wiki/Daniel_Ricciardo', 'givenName': 'Daniel', 'familyName': 'Ricciardo', 'dateOfBirth': '1989-07-01', 'nationality': 'Australian'}, 'Constructor': {'constructorId': 'renault', 'url': 'http://en.wikipedia.org/wiki/Renault_in_Formula_One', 'name': 'Renault', 'nationality': 'French'}, 'grid': '10', 'laps': '17', 'status': 'Overheating', 'FastestLap': {'rank': '19', 'lap': '8', 'Time': {'time': '1:10.610'}, 'AverageSpeed': {'units': 'kph', 'speed': '220.150'}}}, {'number': '33', 'position': '20', 'positionText': 'R', 'points': '0', 'Driver': {'driverId': 'max_verstappen', 'permanentNumber': '33', 'code': 'VER', 'url': 'http://en.wikipedia.org/wiki/Max_Verstappen', 'givenName': 'Max', 'familyName': 'Verstappen', 'dateOfBirth': '1997-09-30', 'nationality': 'Dutch'}, 'Constructor': {'constructorId': 'red_bull', 'url': 'http://en.wikipedia.org/wiki/Red_Bull_Racing', 'name': 'Red Bull', 'nationality': 'Austrian'}, 'grid': '2', 'laps': '11', 'status': 'Electronics', 'FastestLap': {'rank': '15', 'lap': '5', 'Time': {'time': '1:09.351'}, 'AverageSpeed': {'units': 'kph', 'speed': '224.146'}}}]}]}\n"
          ]
        },
        {
          "output_type": "display_data",
          "data": {
            "text/plain": [
              "<IPython.core.display.Javascript object>"
            ],
            "application/javascript": [
              "\n",
              "    async function download(id, filename, size) {\n",
              "      if (!google.colab.kernel.accessAllowed) {\n",
              "        return;\n",
              "      }\n",
              "      const div = document.createElement('div');\n",
              "      const label = document.createElement('label');\n",
              "      label.textContent = `Downloading \"${filename}\": `;\n",
              "      div.appendChild(label);\n",
              "      const progress = document.createElement('progress');\n",
              "      progress.max = size;\n",
              "      div.appendChild(progress);\n",
              "      document.body.appendChild(div);\n",
              "\n",
              "      const buffers = [];\n",
              "      let downloaded = 0;\n",
              "\n",
              "      const channel = await google.colab.kernel.comms.open(id);\n",
              "      // Send a message to notify the kernel that we're ready.\n",
              "      channel.send({})\n",
              "\n",
              "      for await (const message of channel.messages) {\n",
              "        // Send a message to notify the kernel that we're ready.\n",
              "        channel.send({})\n",
              "        if (message.buffers) {\n",
              "          for (const buffer of message.buffers) {\n",
              "            buffers.push(buffer);\n",
              "            downloaded += buffer.byteLength;\n",
              "            progress.value = downloaded;\n",
              "          }\n",
              "        }\n",
              "      }\n",
              "      const blob = new Blob(buffers, {type: 'application/binary'});\n",
              "      const a = document.createElement('a');\n",
              "      a.href = window.URL.createObjectURL(blob);\n",
              "      a.download = filename;\n",
              "      div.appendChild(a);\n",
              "      a.click();\n",
              "      div.remove();\n",
              "    }\n",
              "  "
            ]
          },
          "metadata": {}
        },
        {
          "output_type": "display_data",
          "data": {
            "text/plain": [
              "<IPython.core.display.Javascript object>"
            ],
            "application/javascript": [
              "download(\"download_38bbcac3-1adc-4bb8-b254-91aeb927fe7a\", \"f1_race_results_with_drivers.csv\", 1942)"
            ]
          },
          "metadata": {}
        },
        {
          "output_type": "stream",
          "name": "stdout",
          "text": [
            "Arquivo CSV salvo e pronto para download!\n"
          ]
        }
      ]
    },
    {
      "cell_type": "code",
      "source": [
        "import requests\n",
        "import pandas as pd\n",
        "from google.colab import files\n",
        "\n",
        "url = \"https://randomuser.me/api/\"\n",
        "\n",
        "num_users = 20\n",
        "\n",
        "user_data = []\n",
        "\n",
        "for _ in range(num_users):\n",
        "    response = requests.get(url)\n",
        "\n",
        "    if response.status_code == 200:\n",
        "        data = response.json()\n",
        "        user = data['results'][0]\n",
        "\n",
        "        user_info = {\n",
        "            'Primeiro nome': user['name']['first'],\n",
        "            'Sobrenome': user['name']['last'],\n",
        "            'Genero': user['gender'],\n",
        "            'Data nascimento': user['dob']['date'],\n",
        "            'Idade': user['dob']['age'],\n",
        "            'Email': user['email'],\n",
        "            'Cidade': user['location']['city'],\n",
        "            'Edtado': user['location']['state'],\n",
        "            'Pais': user['location']['country'],\n",
        "            'Celular': user['phone'],\n",
        "            'Foto de perfil': user['picture']['large']\n",
        "        }\n",
        "\n",
        "        user_data.append(user_info)\n",
        "    else:\n",
        "        print(\"Erro ao buscar dados\")\n",
        "\n",
        "df = pd.DataFrame(user_data)\n",
        "\n",
        "df.to_csv('random_users.csv', index=False)\n",
        "\n",
        "files.download('random_users.csv')"
      ],
      "metadata": {
        "colab": {
          "base_uri": "https://localhost:8080/",
          "height": 35
        },
        "id": "XxPhAk6HePIZ",
        "outputId": "b3228809-9e62-426a-b854-4b661815c53b"
      },
      "execution_count": 17,
      "outputs": [
        {
          "output_type": "display_data",
          "data": {
            "text/plain": [
              "<IPython.core.display.Javascript object>"
            ],
            "application/javascript": [
              "\n",
              "    async function download(id, filename, size) {\n",
              "      if (!google.colab.kernel.accessAllowed) {\n",
              "        return;\n",
              "      }\n",
              "      const div = document.createElement('div');\n",
              "      const label = document.createElement('label');\n",
              "      label.textContent = `Downloading \"${filename}\": `;\n",
              "      div.appendChild(label);\n",
              "      const progress = document.createElement('progress');\n",
              "      progress.max = size;\n",
              "      div.appendChild(progress);\n",
              "      document.body.appendChild(div);\n",
              "\n",
              "      const buffers = [];\n",
              "      let downloaded = 0;\n",
              "\n",
              "      const channel = await google.colab.kernel.comms.open(id);\n",
              "      // Send a message to notify the kernel that we're ready.\n",
              "      channel.send({})\n",
              "\n",
              "      for await (const message of channel.messages) {\n",
              "        // Send a message to notify the kernel that we're ready.\n",
              "        channel.send({})\n",
              "        if (message.buffers) {\n",
              "          for (const buffer of message.buffers) {\n",
              "            buffers.push(buffer);\n",
              "            downloaded += buffer.byteLength;\n",
              "            progress.value = downloaded;\n",
              "          }\n",
              "        }\n",
              "      }\n",
              "      const blob = new Blob(buffers, {type: 'application/binary'});\n",
              "      const a = document.createElement('a');\n",
              "      a.href = window.URL.createObjectURL(blob);\n",
              "      a.download = filename;\n",
              "      div.appendChild(a);\n",
              "      a.click();\n",
              "      div.remove();\n",
              "    }\n",
              "  "
            ]
          },
          "metadata": {}
        },
        {
          "output_type": "display_data",
          "data": {
            "text/plain": [
              "<IPython.core.display.Javascript object>"
            ],
            "application/javascript": [
              "download(\"download_94182049-75c8-45bc-95fb-0ba838fbe5a3\", \"random_users.csv\", 3681)"
            ]
          },
          "metadata": {}
        },
        {
          "output_type": "stream",
          "name": "stdout",
          "text": [
            "Arquivo CSV salvo e pronto para download!\n"
          ]
        }
      ]
    },
    {
      "cell_type": "code",
      "source": [
        "from google.colab import files\n",
        "from bs4 import BeautifulSoup\n",
        "import pandas as pd\n",
        "import requests\n",
        "\n",
        "url = \"https://oficial.unimar.br/eventos/\"\n",
        "\n",
        "response = requests.get(url)\n",
        "soup = BeautifulSoup(response.text, 'html.parser')\n",
        "\n",
        "eventos_anteriores = soup.find_all('div', class_='item')\n",
        "\n",
        "eventos_lista = []\n",
        "\n",
        "for evento in eventos_anteriores:\n",
        "    titulo = evento.find('div', class_='titulo')\n",
        "    link = evento.find('a', href=True)\n",
        "    imagem = evento.find('img', src=True)\n",
        "\n",
        "    if titulo and link:\n",
        "        evento_info = {\n",
        "            \"Título\": titulo.text.strip(),\n",
        "            \"Link\": link['href'],\n",
        "        }\n",
        "        eventos_lista.append(evento_info)\n",
        "\n",
        "df_eventos = pd.DataFrame(eventos_lista)\n",
        "\n",
        "csv_filename = \"unimarAntigosEventos.csv\"\n",
        "df_eventos.to_csv(csv_filename, index=False)\n",
        "\n",
        "files.download(csv_filename)"
      ],
      "metadata": {
        "colab": {
          "base_uri": "https://localhost:8080/",
          "height": 17
        },
        "id": "FQqWxjKqg5dY",
        "outputId": "b8c82127-953b-412a-d0ac-965746a73c7a"
      },
      "execution_count": 24,
      "outputs": [
        {
          "output_type": "display_data",
          "data": {
            "text/plain": [
              "<IPython.core.display.Javascript object>"
            ],
            "application/javascript": [
              "\n",
              "    async function download(id, filename, size) {\n",
              "      if (!google.colab.kernel.accessAllowed) {\n",
              "        return;\n",
              "      }\n",
              "      const div = document.createElement('div');\n",
              "      const label = document.createElement('label');\n",
              "      label.textContent = `Downloading \"${filename}\": `;\n",
              "      div.appendChild(label);\n",
              "      const progress = document.createElement('progress');\n",
              "      progress.max = size;\n",
              "      div.appendChild(progress);\n",
              "      document.body.appendChild(div);\n",
              "\n",
              "      const buffers = [];\n",
              "      let downloaded = 0;\n",
              "\n",
              "      const channel = await google.colab.kernel.comms.open(id);\n",
              "      // Send a message to notify the kernel that we're ready.\n",
              "      channel.send({})\n",
              "\n",
              "      for await (const message of channel.messages) {\n",
              "        // Send a message to notify the kernel that we're ready.\n",
              "        channel.send({})\n",
              "        if (message.buffers) {\n",
              "          for (const buffer of message.buffers) {\n",
              "            buffers.push(buffer);\n",
              "            downloaded += buffer.byteLength;\n",
              "            progress.value = downloaded;\n",
              "          }\n",
              "        }\n",
              "      }\n",
              "      const blob = new Blob(buffers, {type: 'application/binary'});\n",
              "      const a = document.createElement('a');\n",
              "      a.href = window.URL.createObjectURL(blob);\n",
              "      a.download = filename;\n",
              "      div.appendChild(a);\n",
              "      a.click();\n",
              "      div.remove();\n",
              "    }\n",
              "  "
            ]
          },
          "metadata": {}
        },
        {
          "output_type": "display_data",
          "data": {
            "text/plain": [
              "<IPython.core.display.Javascript object>"
            ],
            "application/javascript": [
              "download(\"download_1c1095bb-3d82-4545-99a0-2df50990e2cb\", \"unimarAntigosEventos.csv\", 5545)"
            ]
          },
          "metadata": {}
        }
      ]
    }
  ]
}